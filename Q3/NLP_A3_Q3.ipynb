{
  "nbformat": 4,
  "nbformat_minor": 0,
  "metadata": {
    "colab": {
      "provenance": [],
      "gpuType": "T4"
    },
    "kernelspec": {
      "name": "python3",
      "display_name": "Python 3"
    },
    "language_info": {
      "name": "python"
    },
    "accelerator": "GPU",
    "widgets": {
      "application/vnd.jupyter.widget-state+json": {
        "3c0bc37eca52463d9ac3a087fdbb2454": {
          "model_module": "@jupyter-widgets/controls",
          "model_name": "HBoxModel",
          "model_module_version": "1.5.0",
          "state": {
            "_dom_classes": [],
            "_model_module": "@jupyter-widgets/controls",
            "_model_module_version": "1.5.0",
            "_model_name": "HBoxModel",
            "_view_count": null,
            "_view_module": "@jupyter-widgets/controls",
            "_view_module_version": "1.5.0",
            "_view_name": "HBoxView",
            "box_style": "",
            "children": [
              "IPY_MODEL_cadea8d2ed404859a17e79862b451b27",
              "IPY_MODEL_3088429d88584da585613918d7bcad5e",
              "IPY_MODEL_b061a09087094ca39e9e0494fc85fc18"
            ],
            "layout": "IPY_MODEL_8b35e24fa7d542799e10ef90b8881dc1"
          }
        },
        "cadea8d2ed404859a17e79862b451b27": {
          "model_module": "@jupyter-widgets/controls",
          "model_name": "HTMLModel",
          "model_module_version": "1.5.0",
          "state": {
            "_dom_classes": [],
            "_model_module": "@jupyter-widgets/controls",
            "_model_module_version": "1.5.0",
            "_model_name": "HTMLModel",
            "_view_count": null,
            "_view_module": "@jupyter-widgets/controls",
            "_view_module_version": "1.5.0",
            "_view_name": "HTMLView",
            "description": "",
            "description_tooltip": null,
            "layout": "IPY_MODEL_75aa9709992c4dfebca8fa765dd722a7",
            "placeholder": "​",
            "style": "IPY_MODEL_7288c57b6d704293bb21f3253bdbc32f",
            "value": "Map: 100%"
          }
        },
        "3088429d88584da585613918d7bcad5e": {
          "model_module": "@jupyter-widgets/controls",
          "model_name": "FloatProgressModel",
          "model_module_version": "1.5.0",
          "state": {
            "_dom_classes": [],
            "_model_module": "@jupyter-widgets/controls",
            "_model_module_version": "1.5.0",
            "_model_name": "FloatProgressModel",
            "_view_count": null,
            "_view_module": "@jupyter-widgets/controls",
            "_view_module_version": "1.5.0",
            "_view_name": "ProgressView",
            "bar_style": "success",
            "description": "",
            "description_tooltip": null,
            "layout": "IPY_MODEL_30b2a315bb5f4ba89e3f3cb375abff86",
            "max": 287,
            "min": 0,
            "orientation": "horizontal",
            "style": "IPY_MODEL_f20014e776f0428e9186b6c00095c7b0",
            "value": 287
          }
        },
        "b061a09087094ca39e9e0494fc85fc18": {
          "model_module": "@jupyter-widgets/controls",
          "model_name": "HTMLModel",
          "model_module_version": "1.5.0",
          "state": {
            "_dom_classes": [],
            "_model_module": "@jupyter-widgets/controls",
            "_model_module_version": "1.5.0",
            "_model_name": "HTMLModel",
            "_view_count": null,
            "_view_module": "@jupyter-widgets/controls",
            "_view_module_version": "1.5.0",
            "_view_name": "HTMLView",
            "description": "",
            "description_tooltip": null,
            "layout": "IPY_MODEL_869808bd76fc4107808a72ab6d27f3e0",
            "placeholder": "​",
            "style": "IPY_MODEL_feef7089d40a437dbaf6789dcaff32a3",
            "value": " 287/287 [00:01&lt;00:00, 207.83 examples/s]"
          }
        },
        "8b35e24fa7d542799e10ef90b8881dc1": {
          "model_module": "@jupyter-widgets/base",
          "model_name": "LayoutModel",
          "model_module_version": "1.2.0",
          "state": {
            "_model_module": "@jupyter-widgets/base",
            "_model_module_version": "1.2.0",
            "_model_name": "LayoutModel",
            "_view_count": null,
            "_view_module": "@jupyter-widgets/base",
            "_view_module_version": "1.2.0",
            "_view_name": "LayoutView",
            "align_content": null,
            "align_items": null,
            "align_self": null,
            "border": null,
            "bottom": null,
            "display": null,
            "flex": null,
            "flex_flow": null,
            "grid_area": null,
            "grid_auto_columns": null,
            "grid_auto_flow": null,
            "grid_auto_rows": null,
            "grid_column": null,
            "grid_gap": null,
            "grid_row": null,
            "grid_template_areas": null,
            "grid_template_columns": null,
            "grid_template_rows": null,
            "height": null,
            "justify_content": null,
            "justify_items": null,
            "left": null,
            "margin": null,
            "max_height": null,
            "max_width": null,
            "min_height": null,
            "min_width": null,
            "object_fit": null,
            "object_position": null,
            "order": null,
            "overflow": null,
            "overflow_x": null,
            "overflow_y": null,
            "padding": null,
            "right": null,
            "top": null,
            "visibility": null,
            "width": null
          }
        },
        "75aa9709992c4dfebca8fa765dd722a7": {
          "model_module": "@jupyter-widgets/base",
          "model_name": "LayoutModel",
          "model_module_version": "1.2.0",
          "state": {
            "_model_module": "@jupyter-widgets/base",
            "_model_module_version": "1.2.0",
            "_model_name": "LayoutModel",
            "_view_count": null,
            "_view_module": "@jupyter-widgets/base",
            "_view_module_version": "1.2.0",
            "_view_name": "LayoutView",
            "align_content": null,
            "align_items": null,
            "align_self": null,
            "border": null,
            "bottom": null,
            "display": null,
            "flex": null,
            "flex_flow": null,
            "grid_area": null,
            "grid_auto_columns": null,
            "grid_auto_flow": null,
            "grid_auto_rows": null,
            "grid_column": null,
            "grid_gap": null,
            "grid_row": null,
            "grid_template_areas": null,
            "grid_template_columns": null,
            "grid_template_rows": null,
            "height": null,
            "justify_content": null,
            "justify_items": null,
            "left": null,
            "margin": null,
            "max_height": null,
            "max_width": null,
            "min_height": null,
            "min_width": null,
            "object_fit": null,
            "object_position": null,
            "order": null,
            "overflow": null,
            "overflow_x": null,
            "overflow_y": null,
            "padding": null,
            "right": null,
            "top": null,
            "visibility": null,
            "width": null
          }
        },
        "7288c57b6d704293bb21f3253bdbc32f": {
          "model_module": "@jupyter-widgets/controls",
          "model_name": "DescriptionStyleModel",
          "model_module_version": "1.5.0",
          "state": {
            "_model_module": "@jupyter-widgets/controls",
            "_model_module_version": "1.5.0",
            "_model_name": "DescriptionStyleModel",
            "_view_count": null,
            "_view_module": "@jupyter-widgets/base",
            "_view_module_version": "1.2.0",
            "_view_name": "StyleView",
            "description_width": ""
          }
        },
        "30b2a315bb5f4ba89e3f3cb375abff86": {
          "model_module": "@jupyter-widgets/base",
          "model_name": "LayoutModel",
          "model_module_version": "1.2.0",
          "state": {
            "_model_module": "@jupyter-widgets/base",
            "_model_module_version": "1.2.0",
            "_model_name": "LayoutModel",
            "_view_count": null,
            "_view_module": "@jupyter-widgets/base",
            "_view_module_version": "1.2.0",
            "_view_name": "LayoutView",
            "align_content": null,
            "align_items": null,
            "align_self": null,
            "border": null,
            "bottom": null,
            "display": null,
            "flex": null,
            "flex_flow": null,
            "grid_area": null,
            "grid_auto_columns": null,
            "grid_auto_flow": null,
            "grid_auto_rows": null,
            "grid_column": null,
            "grid_gap": null,
            "grid_row": null,
            "grid_template_areas": null,
            "grid_template_columns": null,
            "grid_template_rows": null,
            "height": null,
            "justify_content": null,
            "justify_items": null,
            "left": null,
            "margin": null,
            "max_height": null,
            "max_width": null,
            "min_height": null,
            "min_width": null,
            "object_fit": null,
            "object_position": null,
            "order": null,
            "overflow": null,
            "overflow_x": null,
            "overflow_y": null,
            "padding": null,
            "right": null,
            "top": null,
            "visibility": null,
            "width": null
          }
        },
        "f20014e776f0428e9186b6c00095c7b0": {
          "model_module": "@jupyter-widgets/controls",
          "model_name": "ProgressStyleModel",
          "model_module_version": "1.5.0",
          "state": {
            "_model_module": "@jupyter-widgets/controls",
            "_model_module_version": "1.5.0",
            "_model_name": "ProgressStyleModel",
            "_view_count": null,
            "_view_module": "@jupyter-widgets/base",
            "_view_module_version": "1.2.0",
            "_view_name": "StyleView",
            "bar_color": null,
            "description_width": ""
          }
        },
        "869808bd76fc4107808a72ab6d27f3e0": {
          "model_module": "@jupyter-widgets/base",
          "model_name": "LayoutModel",
          "model_module_version": "1.2.0",
          "state": {
            "_model_module": "@jupyter-widgets/base",
            "_model_module_version": "1.2.0",
            "_model_name": "LayoutModel",
            "_view_count": null,
            "_view_module": "@jupyter-widgets/base",
            "_view_module_version": "1.2.0",
            "_view_name": "LayoutView",
            "align_content": null,
            "align_items": null,
            "align_self": null,
            "border": null,
            "bottom": null,
            "display": null,
            "flex": null,
            "flex_flow": null,
            "grid_area": null,
            "grid_auto_columns": null,
            "grid_auto_flow": null,
            "grid_auto_rows": null,
            "grid_column": null,
            "grid_gap": null,
            "grid_row": null,
            "grid_template_areas": null,
            "grid_template_columns": null,
            "grid_template_rows": null,
            "height": null,
            "justify_content": null,
            "justify_items": null,
            "left": null,
            "margin": null,
            "max_height": null,
            "max_width": null,
            "min_height": null,
            "min_width": null,
            "object_fit": null,
            "object_position": null,
            "order": null,
            "overflow": null,
            "overflow_x": null,
            "overflow_y": null,
            "padding": null,
            "right": null,
            "top": null,
            "visibility": null,
            "width": null
          }
        },
        "feef7089d40a437dbaf6789dcaff32a3": {
          "model_module": "@jupyter-widgets/controls",
          "model_name": "DescriptionStyleModel",
          "model_module_version": "1.5.0",
          "state": {
            "_model_module": "@jupyter-widgets/controls",
            "_model_module_version": "1.5.0",
            "_model_name": "DescriptionStyleModel",
            "_view_count": null,
            "_view_module": "@jupyter-widgets/base",
            "_view_module_version": "1.2.0",
            "_view_name": "StyleView",
            "description_width": ""
          }
        },
        "6e9a7d80d6f94645a8ac8be3baa613d0": {
          "model_module": "@jupyter-widgets/controls",
          "model_name": "HBoxModel",
          "model_module_version": "1.5.0",
          "state": {
            "_dom_classes": [],
            "_model_module": "@jupyter-widgets/controls",
            "_model_module_version": "1.5.0",
            "_model_name": "HBoxModel",
            "_view_count": null,
            "_view_module": "@jupyter-widgets/controls",
            "_view_module_version": "1.5.0",
            "_view_name": "HBoxView",
            "box_style": "",
            "children": [
              "IPY_MODEL_bd4cd82119cf4d1fbe2889266da846e2",
              "IPY_MODEL_fa7a858e60434c3c80d6796104db3411",
              "IPY_MODEL_19e8e796b543435da53e769d2965f334"
            ],
            "layout": "IPY_MODEL_98ec5a83d7be435a9ace9b2d2e74f267"
          }
        },
        "bd4cd82119cf4d1fbe2889266da846e2": {
          "model_module": "@jupyter-widgets/controls",
          "model_name": "HTMLModel",
          "model_module_version": "1.5.0",
          "state": {
            "_dom_classes": [],
            "_model_module": "@jupyter-widgets/controls",
            "_model_module_version": "1.5.0",
            "_model_name": "HTMLModel",
            "_view_count": null,
            "_view_module": "@jupyter-widgets/controls",
            "_view_module_version": "1.5.0",
            "_view_name": "HTMLView",
            "description": "",
            "description_tooltip": null,
            "layout": "IPY_MODEL_8899e473172e42cc9c52cc3f1ea2f47e",
            "placeholder": "​",
            "style": "IPY_MODEL_0fd151623a064019833d552c1e76faf3",
            "value": "Map: 100%"
          }
        },
        "fa7a858e60434c3c80d6796104db3411": {
          "model_module": "@jupyter-widgets/controls",
          "model_name": "FloatProgressModel",
          "model_module_version": "1.5.0",
          "state": {
            "_dom_classes": [],
            "_model_module": "@jupyter-widgets/controls",
            "_model_module_version": "1.5.0",
            "_model_name": "FloatProgressModel",
            "_view_count": null,
            "_view_module": "@jupyter-widgets/controls",
            "_view_module_version": "1.5.0",
            "_view_name": "ProgressView",
            "bar_style": "success",
            "description": "",
            "description_tooltip": null,
            "layout": "IPY_MODEL_d66ba4c93bb74aec92b6c56e8eeba053",
            "max": 13,
            "min": 0,
            "orientation": "horizontal",
            "style": "IPY_MODEL_48e28a3ab92047268a92f03616ac0060",
            "value": 13
          }
        },
        "19e8e796b543435da53e769d2965f334": {
          "model_module": "@jupyter-widgets/controls",
          "model_name": "HTMLModel",
          "model_module_version": "1.5.0",
          "state": {
            "_dom_classes": [],
            "_model_module": "@jupyter-widgets/controls",
            "_model_module_version": "1.5.0",
            "_model_name": "HTMLModel",
            "_view_count": null,
            "_view_module": "@jupyter-widgets/controls",
            "_view_module_version": "1.5.0",
            "_view_name": "HTMLView",
            "description": "",
            "description_tooltip": null,
            "layout": "IPY_MODEL_318dbbaab7ae4dea9c5cff74198725f1",
            "placeholder": "​",
            "style": "IPY_MODEL_ecfed81fbaf0480c9c906a5339735ac7",
            "value": " 13/13 [00:00&lt;00:00, 198.59 examples/s]"
          }
        },
        "98ec5a83d7be435a9ace9b2d2e74f267": {
          "model_module": "@jupyter-widgets/base",
          "model_name": "LayoutModel",
          "model_module_version": "1.2.0",
          "state": {
            "_model_module": "@jupyter-widgets/base",
            "_model_module_version": "1.2.0",
            "_model_name": "LayoutModel",
            "_view_count": null,
            "_view_module": "@jupyter-widgets/base",
            "_view_module_version": "1.2.0",
            "_view_name": "LayoutView",
            "align_content": null,
            "align_items": null,
            "align_self": null,
            "border": null,
            "bottom": null,
            "display": null,
            "flex": null,
            "flex_flow": null,
            "grid_area": null,
            "grid_auto_columns": null,
            "grid_auto_flow": null,
            "grid_auto_rows": null,
            "grid_column": null,
            "grid_gap": null,
            "grid_row": null,
            "grid_template_areas": null,
            "grid_template_columns": null,
            "grid_template_rows": null,
            "height": null,
            "justify_content": null,
            "justify_items": null,
            "left": null,
            "margin": null,
            "max_height": null,
            "max_width": null,
            "min_height": null,
            "min_width": null,
            "object_fit": null,
            "object_position": null,
            "order": null,
            "overflow": null,
            "overflow_x": null,
            "overflow_y": null,
            "padding": null,
            "right": null,
            "top": null,
            "visibility": null,
            "width": null
          }
        },
        "8899e473172e42cc9c52cc3f1ea2f47e": {
          "model_module": "@jupyter-widgets/base",
          "model_name": "LayoutModel",
          "model_module_version": "1.2.0",
          "state": {
            "_model_module": "@jupyter-widgets/base",
            "_model_module_version": "1.2.0",
            "_model_name": "LayoutModel",
            "_view_count": null,
            "_view_module": "@jupyter-widgets/base",
            "_view_module_version": "1.2.0",
            "_view_name": "LayoutView",
            "align_content": null,
            "align_items": null,
            "align_self": null,
            "border": null,
            "bottom": null,
            "display": null,
            "flex": null,
            "flex_flow": null,
            "grid_area": null,
            "grid_auto_columns": null,
            "grid_auto_flow": null,
            "grid_auto_rows": null,
            "grid_column": null,
            "grid_gap": null,
            "grid_row": null,
            "grid_template_areas": null,
            "grid_template_columns": null,
            "grid_template_rows": null,
            "height": null,
            "justify_content": null,
            "justify_items": null,
            "left": null,
            "margin": null,
            "max_height": null,
            "max_width": null,
            "min_height": null,
            "min_width": null,
            "object_fit": null,
            "object_position": null,
            "order": null,
            "overflow": null,
            "overflow_x": null,
            "overflow_y": null,
            "padding": null,
            "right": null,
            "top": null,
            "visibility": null,
            "width": null
          }
        },
        "0fd151623a064019833d552c1e76faf3": {
          "model_module": "@jupyter-widgets/controls",
          "model_name": "DescriptionStyleModel",
          "model_module_version": "1.5.0",
          "state": {
            "_model_module": "@jupyter-widgets/controls",
            "_model_module_version": "1.5.0",
            "_model_name": "DescriptionStyleModel",
            "_view_count": null,
            "_view_module": "@jupyter-widgets/base",
            "_view_module_version": "1.2.0",
            "_view_name": "StyleView",
            "description_width": ""
          }
        },
        "d66ba4c93bb74aec92b6c56e8eeba053": {
          "model_module": "@jupyter-widgets/base",
          "model_name": "LayoutModel",
          "model_module_version": "1.2.0",
          "state": {
            "_model_module": "@jupyter-widgets/base",
            "_model_module_version": "1.2.0",
            "_model_name": "LayoutModel",
            "_view_count": null,
            "_view_module": "@jupyter-widgets/base",
            "_view_module_version": "1.2.0",
            "_view_name": "LayoutView",
            "align_content": null,
            "align_items": null,
            "align_self": null,
            "border": null,
            "bottom": null,
            "display": null,
            "flex": null,
            "flex_flow": null,
            "grid_area": null,
            "grid_auto_columns": null,
            "grid_auto_flow": null,
            "grid_auto_rows": null,
            "grid_column": null,
            "grid_gap": null,
            "grid_row": null,
            "grid_template_areas": null,
            "grid_template_columns": null,
            "grid_template_rows": null,
            "height": null,
            "justify_content": null,
            "justify_items": null,
            "left": null,
            "margin": null,
            "max_height": null,
            "max_width": null,
            "min_height": null,
            "min_width": null,
            "object_fit": null,
            "object_position": null,
            "order": null,
            "overflow": null,
            "overflow_x": null,
            "overflow_y": null,
            "padding": null,
            "right": null,
            "top": null,
            "visibility": null,
            "width": null
          }
        },
        "48e28a3ab92047268a92f03616ac0060": {
          "model_module": "@jupyter-widgets/controls",
          "model_name": "ProgressStyleModel",
          "model_module_version": "1.5.0",
          "state": {
            "_model_module": "@jupyter-widgets/controls",
            "_model_module_version": "1.5.0",
            "_model_name": "ProgressStyleModel",
            "_view_count": null,
            "_view_module": "@jupyter-widgets/base",
            "_view_module_version": "1.2.0",
            "_view_name": "StyleView",
            "bar_color": null,
            "description_width": ""
          }
        },
        "318dbbaab7ae4dea9c5cff74198725f1": {
          "model_module": "@jupyter-widgets/base",
          "model_name": "LayoutModel",
          "model_module_version": "1.2.0",
          "state": {
            "_model_module": "@jupyter-widgets/base",
            "_model_module_version": "1.2.0",
            "_model_name": "LayoutModel",
            "_view_count": null,
            "_view_module": "@jupyter-widgets/base",
            "_view_module_version": "1.2.0",
            "_view_name": "LayoutView",
            "align_content": null,
            "align_items": null,
            "align_self": null,
            "border": null,
            "bottom": null,
            "display": null,
            "flex": null,
            "flex_flow": null,
            "grid_area": null,
            "grid_auto_columns": null,
            "grid_auto_flow": null,
            "grid_auto_rows": null,
            "grid_column": null,
            "grid_gap": null,
            "grid_row": null,
            "grid_template_areas": null,
            "grid_template_columns": null,
            "grid_template_rows": null,
            "height": null,
            "justify_content": null,
            "justify_items": null,
            "left": null,
            "margin": null,
            "max_height": null,
            "max_width": null,
            "min_height": null,
            "min_width": null,
            "object_fit": null,
            "object_position": null,
            "order": null,
            "overflow": null,
            "overflow_x": null,
            "overflow_y": null,
            "padding": null,
            "right": null,
            "top": null,
            "visibility": null,
            "width": null
          }
        },
        "ecfed81fbaf0480c9c906a5339735ac7": {
          "model_module": "@jupyter-widgets/controls",
          "model_name": "DescriptionStyleModel",
          "model_module_version": "1.5.0",
          "state": {
            "_model_module": "@jupyter-widgets/controls",
            "_model_module_version": "1.5.0",
            "_model_name": "DescriptionStyleModel",
            "_view_count": null,
            "_view_module": "@jupyter-widgets/base",
            "_view_module_version": "1.2.0",
            "_view_name": "StyleView",
            "description_width": ""
          }
        }
      }
    }
  },
  "cells": [
    {
      "cell_type": "code",
      "execution_count": 189,
      "metadata": {
        "colab": {
          "base_uri": "https://localhost:8080/"
        },
        "id": "YenEBJSsyZ01",
        "outputId": "947e47a1-a634-4613-fe6e-2f11854aeea1"
      },
      "outputs": [
        {
          "output_type": "stream",
          "name": "stdout",
          "text": [
            "Path to dataset files: /root/.cache/kagglehub/datasets/gowrishankarp/newspaper-text-summarization-cnn-dailymail/versions/2\n"
          ]
        }
      ],
      "source": [
        "import kagglehub\n",
        "\n",
        "# Download latest version\n",
        "path = kagglehub.dataset_download(\"gowrishankarp/newspaper-text-summarization-cnn-dailymail\")\n",
        "\n",
        "print(\"Path to dataset files:\", path)"
      ]
    },
    {
      "cell_type": "markdown",
      "source": [
        "## Data Extraction"
      ],
      "metadata": {
        "id": "dWRGYzulyicK"
      }
    },
    {
      "cell_type": "code",
      "metadata": {
        "colab": {
          "base_uri": "https://localhost:8080/"
        },
        "id": "ab63a234",
        "outputId": "2f7dfc6a-308d-4aaa-b1a0-445549a6b4fe"
      },
      "source": [
        "# List the files in the downloaded dataset directory\n",
        "!ls  /root/.cache/kagglehub/datasets/gowrishankarp/newspaper-text-summarization-cnn-dailymail/versions/2/cnn_dailymail"
      ],
      "execution_count": null,
      "outputs": [
        {
          "output_type": "stream",
          "name": "stdout",
          "text": [
            "test.csv  train.csv  validation.csv\n"
          ]
        }
      ]
    },
    {
      "cell_type": "code",
      "source": [
        "import polars as pl\n",
        "\n",
        "# train df\n",
        "df = pl.read_csv(\"/root/.cache/kagglehub/datasets/gowrishankarp/newspaper-text-summarization-cnn-dailymail/versions/2/cnn_dailymail/train.csv\")\n",
        "val_df = pl.read_csv(\"/root/.cache/kagglehub/datasets/gowrishankarp/newspaper-text-summarization-cnn-dailymail/versions/2/cnn_dailymail/validation.csv\")\n",
        "test_df = pl.read_csv(\"/root/.cache/kagglehub/datasets/gowrishankarp/newspaper-text-summarization-cnn-dailymail/versions/2/cnn_dailymail/test.csv\")\n",
        "\n",
        "\n",
        "print(\"Train shape:\", df.shape)\n",
        "print(\"Val shape:  \", val_df.shape)\n",
        "print(\"Test shape: \", test_df.shape)"
      ],
      "metadata": {
        "colab": {
          "base_uri": "https://localhost:8080/"
        },
        "id": "bIyZ-mgpyh9J",
        "outputId": "850c7c8c-2c20-4885-eb87-286bc7b33fd3"
      },
      "execution_count": 207,
      "outputs": [
        {
          "output_type": "stream",
          "name": "stdout",
          "text": [
            "Train shape: (287113, 3)\n",
            "Val shape:   (13368, 3)\n",
            "Test shape:  (11490, 3)\n"
          ]
        }
      ]
    },
    {
      "cell_type": "code",
      "metadata": {
        "id": "c8426cc5",
        "colab": {
          "base_uri": "https://localhost:8080/"
        },
        "outputId": "005e2094-3ba3-4027-fd2a-d5aabfb10c7a"
      },
      "source": [
        "df = df.sample(fraction=0.001, seed=42)\n",
        "val_df = val_df.sample(fraction=0.001, seed=42)\n",
        "test_df = test_df.sample(fraction=0.001, seed=42)\n",
        "\n",
        "print(\"Train shape:\", df.shape)\n",
        "print(\"Val shape:  \", val_df.shape)\n",
        "print(\"Test shape: \", test_df.shape)"
      ],
      "execution_count": 208,
      "outputs": [
        {
          "output_type": "stream",
          "name": "stdout",
          "text": [
            "Train shape: (287, 3)\n",
            "Val shape:   (13, 3)\n",
            "Test shape:  (11, 3)\n"
          ]
        }
      ]
    },
    {
      "cell_type": "code",
      "source": [
        "print(df.columns)"
      ],
      "metadata": {
        "colab": {
          "base_uri": "https://localhost:8080/"
        },
        "id": "CzhwsbSq0WOg",
        "outputId": "652d2e4d-b98a-45bc-8850-cd38b6f2af76"
      },
      "execution_count": null,
      "outputs": [
        {
          "output_type": "stream",
          "name": "stdout",
          "text": [
            "['article', 'highlights', 'highlights_words']\n"
          ]
        }
      ]
    },
    {
      "cell_type": "code",
      "source": [
        "def clean_text(df: pl.DataFrame) -> pl.DataFrame:\n",
        "  return (\n",
        "      df\n",
        "      .select([\"article\", \"highlights\"])\n",
        "      .drop_nulls(subset=[\"article\", \"highlights\"])\n",
        "      .with_columns([\n",
        "          pl.col(\"article\").str.strip_chars(),\n",
        "          pl.col(\"highlights\").str.strip_chars(),\n",
        "      ])\n",
        "  )\n",
        "\n",
        "df = clean_text(df)\n",
        "test_df  = clean_text(test_df)\n",
        "val_df = clean_text(val_df)\n",
        "\n",
        "print(\"Train shape:\", df.shape)\n",
        "print(\"Val shape:  \", val_df.shape)\n",
        "print(\"Test shape: \", test_df.shape)"
      ],
      "metadata": {
        "colab": {
          "base_uri": "https://localhost:8080/"
        },
        "id": "5oPzi-W_0Ycl",
        "outputId": "475dd0f7-8b90-4b2e-bd5f-38065a0d1975"
      },
      "execution_count": 209,
      "outputs": [
        {
          "output_type": "stream",
          "name": "stdout",
          "text": [
            "Train shape: (287, 2)\n",
            "Val shape:   (13, 2)\n",
            "Test shape:  (11, 2)\n"
          ]
        }
      ]
    },
    {
      "cell_type": "code",
      "source": [
        "df.sample()"
      ],
      "metadata": {
        "colab": {
          "base_uri": "https://localhost:8080/",
          "height": 129
        },
        "id": "QfFmVdOG1pQP",
        "outputId": "6f48d8c4-24d6-42f4-d393-13e51d7ec246"
      },
      "execution_count": null,
      "outputs": [
        {
          "output_type": "execute_result",
          "data": {
            "text/plain": [
              "shape: (1, 2)\n",
              "┌─────────────────────────────────┬─────────────────────────────────┐\n",
              "│ article                         ┆ highlights                      │\n",
              "│ ---                             ┆ ---                             │\n",
              "│ str                             ┆ str                             │\n",
              "╞═════════════════════════════════╪═════════════════════════════════╡\n",
              "│ By . Rob Cooper . PUBLISHED: .… ┆ Petty criminal Steven Cane, 25… │\n",
              "└─────────────────────────────────┴─────────────────────────────────┘"
            ],
            "text/html": [
              "<div><style>\n",
              ".dataframe > thead > tr,\n",
              ".dataframe > tbody > tr {\n",
              "  text-align: right;\n",
              "  white-space: pre-wrap;\n",
              "}\n",
              "</style>\n",
              "<small>shape: (1, 2)</small><table border=\"1\" class=\"dataframe\"><thead><tr><th>article</th><th>highlights</th></tr><tr><td>str</td><td>str</td></tr></thead><tbody><tr><td>&quot;By . Rob Cooper . PUBLISHED: .…</td><td>&quot;Petty criminal Steven Cane, 25…</td></tr></tbody></table></div>"
            ]
          },
          "metadata": {},
          "execution_count": 12
        }
      ]
    },
    {
      "cell_type": "markdown",
      "source": [
        "## EDA"
      ],
      "metadata": {
        "id": "4mKsATPY2mv7"
      }
    },
    {
      "cell_type": "code",
      "source": [
        "def word_counts(df: pl.DataFrame) -> pl.DataFrame:\n",
        "  return df.with_columns([\n",
        "      pl.col(\"article\").str.split(\" \").list.len().alias(\"article_words\"),\n",
        "      pl.col(\"highlights\").str.split(\" \").list.len().alias(\"highlights_words\")\n",
        "  ])\n",
        "\n",
        "df = word_counts(df)\n",
        "df.sample(5)\n"
      ],
      "metadata": {
        "colab": {
          "base_uri": "https://localhost:8080/",
          "height": 255
        },
        "id": "lIM3HU6b2nli",
        "outputId": "979452c3-7be9-45c4-a050-794b03a2a0ba"
      },
      "execution_count": 193,
      "outputs": [
        {
          "output_type": "execute_result",
          "data": {
            "text/plain": [
              "shape: (5, 4)\n",
              "┌───────────────────────────────┬───────────────────────────────┬───────────────┬──────────────────┐\n",
              "│ article                       ┆ highlights                    ┆ article_words ┆ highlights_words │\n",
              "│ ---                           ┆ ---                           ┆ ---           ┆ ---              │\n",
              "│ str                           ┆ str                           ┆ u32           ┆ u32              │\n",
              "╞═══════════════════════════════╪═══════════════════════════════╪═══════════════╪══════════════════╡\n",
              "│ Nicholas Stewart from Dowson  ┆ Decision in the Federal       ┆ 517           ┆ 65               │\n",
              "│ T…                            ┆ Circui…                       ┆               ┆                  │\n",
              "│ (CNN) -- It's the most        ┆ Grand slam in tennis consists ┆ 1521          ┆ 51               │\n",
              "│ romanti…                      ┆ …                             ┆               ┆                  │\n",
              "│ By . Beth Stebner .           ┆ Sybrina Fulton said that      ┆ 1009          ┆ 53               │\n",
              "│ PUBLISHED:…                   ┆ she's…                        ┆               ┆                  │\n",
              "│ (CNN)  -- The torch for the   ┆ Olympic flame due to arrive   ┆ 489           ┆ 46               │\n",
              "│ 20…                           ┆ in…                           ┆               ┆                  │\n",
              "│ A man has been arrested as    ┆ Lester Ralph Jones, 63 has    ┆ 598           ┆ 63               │\n",
              "│ par…                          ┆ bee…                          ┆               ┆                  │\n",
              "└───────────────────────────────┴───────────────────────────────┴───────────────┴──────────────────┘"
            ],
            "text/html": [
              "<div><style>\n",
              ".dataframe > thead > tr,\n",
              ".dataframe > tbody > tr {\n",
              "  text-align: right;\n",
              "  white-space: pre-wrap;\n",
              "}\n",
              "</style>\n",
              "<small>shape: (5, 4)</small><table border=\"1\" class=\"dataframe\"><thead><tr><th>article</th><th>highlights</th><th>article_words</th><th>highlights_words</th></tr><tr><td>str</td><td>str</td><td>u32</td><td>u32</td></tr></thead><tbody><tr><td>&quot;Nicholas Stewart from Dowson T…</td><td>&quot;Decision in the Federal Circui…</td><td>517</td><td>65</td></tr><tr><td>&quot;(CNN) -- It&#x27;s the most romanti…</td><td>&quot;Grand slam in tennis consists …</td><td>1521</td><td>51</td></tr><tr><td>&quot;By . Beth Stebner . PUBLISHED:…</td><td>&quot;Sybrina Fulton said that she&#x27;s…</td><td>1009</td><td>53</td></tr><tr><td>&quot;(CNN)&nbsp;&nbsp;-- The torch for the 20…</td><td>&quot;Olympic flame due to arrive in…</td><td>489</td><td>46</td></tr><tr><td>&quot;A man has been arrested as par…</td><td>&quot;Lester Ralph Jones, 63 has bee…</td><td>598</td><td>63</td></tr></tbody></table></div>"
            ]
          },
          "metadata": {},
          "execution_count": 193
        }
      ]
    },
    {
      "cell_type": "code",
      "source": [
        "# Averages\n",
        "avg_article_words = df[\"article_words\"].mean()\n",
        "avg_summary_words = df[\"highlights_words\"].mean()\n",
        "\n",
        "# Minimums\n",
        "min_article_words = df[\"article_words\"].min()\n",
        "min_summary_words = df[\"highlights_words\"].min()\n",
        "\n",
        "# Maximums\n",
        "max_article_words = df[\"article_words\"].max()\n",
        "max_summary_words = df[\"highlights_words\"].max()"
      ],
      "metadata": {
        "id": "z-0QLOSz3Si4"
      },
      "execution_count": 194,
      "outputs": []
    },
    {
      "cell_type": "code",
      "source": [
        "print(f\"Average words in article: {avg_article_words:.1f}\")\n",
        "print(f\"Average words in summary: {avg_summary_words:.1f}\")\n",
        "print(f\"Compression ratio: {avg_article_words / avg_summary_words:.1f}x\")\n",
        "\n",
        "print(f\"\\nMinimum words in article: {min_article_words}\")\n",
        "print(f\"Minimum words in summary: {min_summary_words}\")\n",
        "\n",
        "print(f\"\\nMaximum words in article: {max_article_words}\")\n",
        "print(f\"Maximum words in summary: {max_summary_words}\")"
      ],
      "metadata": {
        "colab": {
          "base_uri": "https://localhost:8080/"
        },
        "id": "xOrBhcMU4C5z",
        "outputId": "0f29986b-7104-41f3-cc7e-599355189d0f"
      },
      "execution_count": null,
      "outputs": [
        {
          "output_type": "stream",
          "name": "stdout",
          "text": [
            "Average words in article: 691.6\n",
            "Average words in summary: 48.9\n",
            "Compression ratio: 14.1x\n",
            "\n",
            "Minimum words in article: 43\n",
            "Minimum words in summary: 8\n",
            "\n",
            "Maximum words in article: 2033\n",
            "Maximum words in summary: 294\n"
          ]
        }
      ]
    },
    {
      "cell_type": "code",
      "source": [
        "import matplotlib.pyplot as plt\n",
        "\n",
        "plt.figure(figsize=(12, 5))\n",
        "\n",
        "# Article word counts\n",
        "plt.subplot(1, 2, 1)\n",
        "plt.hist(df[\"article_words\"], bins=50, color=\"skyblue\", edgecolor=\"black\")\n",
        "plt.title(\"Article Word Count Distribution\")\n",
        "plt.xlabel(\"Number of Words\")\n",
        "plt.ylabel(\"Frequency\")\n",
        "\n",
        "# Summary word counts\n",
        "plt.subplot(1, 2, 2)\n",
        "plt.hist(df[\"highlights_words\"], bins=30, color=\"lightcoral\", edgecolor=\"black\")\n",
        "plt.title(\"Summary Word Count Distribution\")\n",
        "plt.xlabel(\"Number of Words\")\n",
        "plt.ylabel(\"Frequency\")\n",
        "\n",
        "plt.tight_layout()\n",
        "plt.show()"
      ],
      "metadata": {
        "colab": {
          "base_uri": "https://localhost:8080/",
          "height": 360
        },
        "id": "9DlN9MWb-7bp",
        "outputId": "c03c3385-70d7-495d-d3ad-0b52115b7b53"
      },
      "execution_count": null,
      "outputs": [
        {
          "output_type": "display_data",
          "data": {
            "text/plain": [
              "<Figure size 1200x500 with 2 Axes>"
            ],
            "image/png": "[encoded data removed]"
          },
          "metadata": {}
        }
      ]
    },
    {
      "cell_type": "code",
      "source": [
        "# Remove word count columns\n",
        "df = df.drop([col for col in [\"article_words\", \"summary_words\"] if col in df.columns])\n",
        "\n",
        "print(\"Final columns:\", df.columns)"
      ],
      "metadata": {
        "id": "MxI3E0wk3e-V",
        "colab": {
          "base_uri": "https://localhost:8080/"
        },
        "outputId": "99052bb2-181b-44ba-c03f-ee9c25e3cec7"
      },
      "execution_count": 210,
      "outputs": [
        {
          "output_type": "stream",
          "name": "stdout",
          "text": [
            "Final columns: ['article', 'highlights']\n"
          ]
        }
      ]
    },
    {
      "cell_type": "code",
      "source": [
        "print(\"abc\")"
      ],
      "metadata": {
        "id": "gqhIPdW09a2N"
      },
      "execution_count": null,
      "outputs": []
    },
    {
      "cell_type": "markdown",
      "source": [
        "## Tokenization"
      ],
      "metadata": {
        "id": "Uwrdnx_z_9x6"
      }
    },
    {
      "cell_type": "code",
      "source": [
        "from datasets import Dataset\n",
        "\n",
        "# Convert Polars to pandas\n",
        "train_hf = Dataset.from_pandas(df.to_pandas())\n",
        "val_hf = Dataset.from_pandas(val_df.to_pandas())"
      ],
      "metadata": {
        "id": "VgmCNWps6pjb"
      },
      "execution_count": 211,
      "outputs": []
    },
    {
      "cell_type": "code",
      "source": [
        "from transformers import T5Tokenizer, T5ForConditionalGeneration\n",
        "\n",
        "# Use consistent, fresh tokenizer and model\n",
        "tokenizer = T5Tokenizer.from_pretrained(\"t5-small\")\n",
        "model = T5ForConditionalGeneration.from_pretrained(\"t5-small\")\n",
        "\n",
        "# Verify pad token\n",
        "print(\"Pad token ID:\", tokenizer.pad_token_id)  # Should be 0 for T5"
      ],
      "metadata": {
        "colab": {
          "base_uri": "https://localhost:8080/"
        },
        "id": "sW9RAfDx__WW",
        "outputId": "ae2294e8-ddb4-4e43-c977-7cf580a00ddf"
      },
      "execution_count": 212,
      "outputs": [
        {
          "output_type": "stream",
          "name": "stdout",
          "text": [
            "Pad token ID: 0\n"
          ]
        }
      ]
    },
    {
      "cell_type": "code",
      "source": [
        "def preprocess_function(examples):\n",
        "    inputs = [\"summarize: \" + doc for doc in examples[\"article\"]]\n",
        "\n",
        "    model_inputs = tokenizer(\n",
        "        inputs,\n",
        "        max_length=1024,\n",
        "        truncation=True,\n",
        "        padding=False\n",
        "    )\n",
        "\n",
        "    with tokenizer.as_target_tokenizer():\n",
        "        labels = tokenizer(\n",
        "            examples[\"highlights\"],\n",
        "            max_length=150,\n",
        "            truncation=True,\n",
        "            padding=False\n",
        "        )\n",
        "\n",
        "    model_inputs[\"labels\"] = labels[\"input_ids\"]\n",
        "    return model_inputs"
      ],
      "metadata": {
        "id": "C3QR7MH6_T0R"
      },
      "execution_count": 213,
      "outputs": []
    },
    {
      "cell_type": "code",
      "source": [
        "tokenized_train = train_hf.map(\n",
        "    preprocess_function,\n",
        "    batched=True,\n",
        "    remove_columns=[\"article\", \"highlights\"]\n",
        ")\n",
        "\n",
        "tokenized_val = val_hf.map(\n",
        "    preprocess_function,\n",
        "    batched=True,\n",
        "    remove_columns=[\"article\", \"highlights\"]\n",
        ")"
      ],
      "metadata": {
        "colab": {
          "base_uri": "https://localhost:8080/",
          "height": 138,
          "referenced_widgets": [
            "3c0bc37eca52463d9ac3a087fdbb2454",
            "cadea8d2ed404859a17e79862b451b27",
            "3088429d88584da585613918d7bcad5e",
            "b061a09087094ca39e9e0494fc85fc18",
            "8b35e24fa7d542799e10ef90b8881dc1",
            "75aa9709992c4dfebca8fa765dd722a7",
            "7288c57b6d704293bb21f3253bdbc32f",
            "30b2a315bb5f4ba89e3f3cb375abff86",
            "f20014e776f0428e9186b6c00095c7b0",
            "869808bd76fc4107808a72ab6d27f3e0",
            "feef7089d40a437dbaf6789dcaff32a3",
            "6e9a7d80d6f94645a8ac8be3baa613d0",
            "bd4cd82119cf4d1fbe2889266da846e2",
            "fa7a858e60434c3c80d6796104db3411",
            "19e8e796b543435da53e769d2965f334",
            "98ec5a83d7be435a9ace9b2d2e74f267",
            "8899e473172e42cc9c52cc3f1ea2f47e",
            "0fd151623a064019833d552c1e76faf3",
            "d66ba4c93bb74aec92b6c56e8eeba053",
            "48e28a3ab92047268a92f03616ac0060",
            "318dbbaab7ae4dea9c5cff74198725f1",
            "ecfed81fbaf0480c9c906a5339735ac7"
          ]
        },
        "id": "Ca3j56sCAIbq",
        "outputId": "b1dd08f0-c662-4b0c-9857-2f1e0c9b3a86"
      },
      "execution_count": 214,
      "outputs": [
        {
          "output_type": "display_data",
          "data": {
            "text/plain": [
              "Map:   0%|          | 0/287 [00:00<?, ? examples/s]"
            ],
            "application/vnd.jupyter.widget-view+json": {
              "version_major": 2,
              "version_minor": 0,
              "model_id": "3c0bc37eca52463d9ac3a087fdbb2454"
            }
          },
          "metadata": {}
        },
        {
          "output_type": "stream",
          "name": "stderr",
          "text": [
            "/usr/local/lib/python3.12/dist-packages/transformers/tokenization_utils_base.py:4034: UserWarning: `as_target_tokenizer` is deprecated and will be removed in v5 of Transformers. You can tokenize your labels by using the argument `text_target` of the regular `__call__` method (either in the same call as your input texts if you use the same keyword arguments, or in a separate call.\n",
            "  warnings.warn(\n"
          ]
        },
        {
          "output_type": "display_data",
          "data": {
            "text/plain": [
              "Map:   0%|          | 0/13 [00:00<?, ? examples/s]"
            ],
            "application/vnd.jupyter.widget-view+json": {
              "version_major": 2,
              "version_minor": 0,
              "model_id": "6e9a7d80d6f94645a8ac8be3baa613d0"
            }
          },
          "metadata": {}
        }
      ]
    },
    {
      "cell_type": "code",
      "source": [
        "from transformers import Seq2SeqTrainingArguments\n",
        "\n",
        "training_args = Seq2SeqTrainingArguments(\n",
        "    output_dir=\"./t5-summarizer\",\n",
        "    eval_strategy=\"epoch\",\n",
        "    save_strategy=\"epoch\",\n",
        "    learning_rate=3e-4,\n",
        "    per_device_train_batch_size=4,\n",
        "    per_device_eval_batch_size=8,\n",
        "    num_train_epochs=3,\n",
        "    predict_with_generate=True,\n",
        "    generation_max_length=150,\n",
        "    generation_num_beams=4,\n",
        "    logging_steps=100,\n",
        "    load_best_model_at_end=True,\n",
        "    metric_for_best_model=\"rouge1\",\n",
        "    greater_is_better=True,\n",
        "    report_to=\"none\",\n",
        "    fp16=True,\n",
        ")"
      ],
      "metadata": {
        "id": "7ow644maApci"
      },
      "execution_count": 215,
      "outputs": []
    },
    {
      "cell_type": "code",
      "source": [
        "from transformers import DataCollatorForSeq2Seq, Seq2SeqTrainer\n",
        "\n",
        "data_collator = DataCollatorForSeq2Seq(\n",
        "    tokenizer=tokenizer,\n",
        "    model=model,\n",
        "    label_pad_token_id=-100,  # ← This is handled safely\n",
        "    pad_to_multiple_of=8 if training_args.fp16 else None\n",
        ")"
      ],
      "metadata": {
        "id": "WU8KNBqQAOus"
      },
      "execution_count": 216,
      "outputs": []
    },
    {
      "cell_type": "code",
      "source": [
        "!pip install evaluate"
      ],
      "metadata": {
        "colab": {
          "base_uri": "https://localhost:8080/"
        },
        "id": "Br_6IUKzEFKB",
        "outputId": "fe32d504-cd80-4eb3-8281-928b628fda39"
      },
      "execution_count": null,
      "outputs": [
        {
          "output_type": "stream",
          "name": "stdout",
          "text": [
            "Requirement already satisfied: evaluate in /usr/local/lib/python3.12/dist-packages (0.4.6)\n",
            "Requirement already satisfied: datasets>=2.0.0 in /usr/local/lib/python3.12/dist-packages (from evaluate) (4.0.0)\n",
            "Requirement already satisfied: numpy>=1.17 in /usr/local/lib/python3.12/dist-packages (from evaluate) (2.0.2)\n",
            "Requirement already satisfied: dill in /usr/local/lib/python3.12/dist-packages (from evaluate) (0.3.8)\n",
            "Requirement already satisfied: pandas in /usr/local/lib/python3.12/dist-packages (from evaluate) (2.2.2)\n",
            "Requirement already satisfied: requests>=2.19.0 in /usr/local/lib/python3.12/dist-packages (from evaluate) (2.32.4)\n",
            "Requirement already satisfied: tqdm>=4.62.1 in /usr/local/lib/python3.12/dist-packages (from evaluate) (4.67.1)\n",
            "Requirement already satisfied: xxhash in /usr/local/lib/python3.12/dist-packages (from evaluate) (3.6.0)\n",
            "Requirement already satisfied: multiprocess in /usr/local/lib/python3.12/dist-packages (from evaluate) (0.70.16)\n",
            "Requirement already satisfied: fsspec>=2021.05.0 in /usr/local/lib/python3.12/dist-packages (from fsspec[http]>=2021.05.0->evaluate) (2025.3.0)\n",
            "Requirement already satisfied: huggingface-hub>=0.7.0 in /usr/local/lib/python3.12/dist-packages (from evaluate) (0.36.0)\n",
            "Requirement already satisfied: packaging in /usr/local/lib/python3.12/dist-packages (from evaluate) (25.0)\n",
            "Requirement already satisfied: filelock in /usr/local/lib/python3.12/dist-packages (from datasets>=2.0.0->evaluate) (3.20.0)\n",
            "Requirement already satisfied: pyarrow>=15.0.0 in /usr/local/lib/python3.12/dist-packages (from datasets>=2.0.0->evaluate) (18.1.0)\n",
            "Requirement already satisfied: pyyaml>=5.1 in /usr/local/lib/python3.12/dist-packages (from datasets>=2.0.0->evaluate) (6.0.3)\n",
            "Requirement already satisfied: aiohttp!=4.0.0a0,!=4.0.0a1 in /usr/local/lib/python3.12/dist-packages (from fsspec[http]>=2021.05.0->evaluate) (3.13.1)\n",
            "Requirement already satisfied: typing-extensions>=3.7.4.3 in /usr/local/lib/python3.12/dist-packages (from huggingface-hub>=0.7.0->evaluate) (4.15.0)\n",
            "Requirement already satisfied: hf-xet<2.0.0,>=1.1.3 in /usr/local/lib/python3.12/dist-packages (from huggingface-hub>=0.7.0->evaluate) (1.2.0)\n",
            "Requirement already satisfied: charset_normalizer<4,>=2 in /usr/local/lib/python3.12/dist-packages (from requests>=2.19.0->evaluate) (3.4.4)\n",
            "Requirement already satisfied: idna<4,>=2.5 in /usr/local/lib/python3.12/dist-packages (from requests>=2.19.0->evaluate) (3.11)\n",
            "Requirement already satisfied: urllib3<3,>=1.21.1 in /usr/local/lib/python3.12/dist-packages (from requests>=2.19.0->evaluate) (2.5.0)\n",
            "Requirement already satisfied: certifi>=2017.4.17 in /usr/local/lib/python3.12/dist-packages (from requests>=2.19.0->evaluate) (2025.10.5)\n",
            "Requirement already satisfied: python-dateutil>=2.8.2 in /usr/local/lib/python3.12/dist-packages (from pandas->evaluate) (2.9.0.post0)\n",
            "Requirement already satisfied: pytz>=2020.1 in /usr/local/lib/python3.12/dist-packages (from pandas->evaluate) (2025.2)\n",
            "Requirement already satisfied: tzdata>=2022.7 in /usr/local/lib/python3.12/dist-packages (from pandas->evaluate) (2025.2)\n",
            "Requirement already satisfied: aiohappyeyeballs>=2.5.0 in /usr/local/lib/python3.12/dist-packages (from aiohttp!=4.0.0a0,!=4.0.0a1->fsspec[http]>=2021.05.0->evaluate) (2.6.1)\n",
            "Requirement already satisfied: aiosignal>=1.4.0 in /usr/local/lib/python3.12/dist-packages (from aiohttp!=4.0.0a0,!=4.0.0a1->fsspec[http]>=2021.05.0->evaluate) (1.4.0)\n",
            "Requirement already satisfied: attrs>=17.3.0 in /usr/local/lib/python3.12/dist-packages (from aiohttp!=4.0.0a0,!=4.0.0a1->fsspec[http]>=2021.05.0->evaluate) (25.4.0)\n",
            "Requirement already satisfied: frozenlist>=1.1.1 in /usr/local/lib/python3.12/dist-packages (from aiohttp!=4.0.0a0,!=4.0.0a1->fsspec[http]>=2021.05.0->evaluate) (1.8.0)\n",
            "Requirement already satisfied: multidict<7.0,>=4.5 in /usr/local/lib/python3.12/dist-packages (from aiohttp!=4.0.0a0,!=4.0.0a1->fsspec[http]>=2021.05.0->evaluate) (6.7.0)\n",
            "Requirement already satisfied: propcache>=0.2.0 in /usr/local/lib/python3.12/dist-packages (from aiohttp!=4.0.0a0,!=4.0.0a1->fsspec[http]>=2021.05.0->evaluate) (0.4.1)\n",
            "Requirement already satisfied: yarl<2.0,>=1.17.0 in /usr/local/lib/python3.12/dist-packages (from aiohttp!=4.0.0a0,!=4.0.0a1->fsspec[http]>=2021.05.0->evaluate) (1.22.0)\n",
            "Requirement already satisfied: six>=1.5 in /usr/local/lib/python3.12/dist-packages (from python-dateutil>=2.8.2->pandas->evaluate) (1.17.0)\n"
          ]
        }
      ]
    },
    {
      "cell_type": "code",
      "source": [
        "import evaluate\n",
        "import numpy\n"
      ],
      "metadata": {
        "id": "mD_wA1TgEBt-"
      },
      "execution_count": 217,
      "outputs": []
    },
    {
      "cell_type": "code",
      "source": [
        "!pip install rouge_score"
      ],
      "metadata": {
        "colab": {
          "base_uri": "https://localhost:8080/"
        },
        "id": "k1C1rkB0ESs9",
        "outputId": "592416d0-57b1-4a44-aa8a-798a201d4bca"
      },
      "execution_count": null,
      "outputs": [
        {
          "output_type": "stream",
          "name": "stdout",
          "text": [
            "Requirement already satisfied: rouge_score in /usr/local/lib/python3.12/dist-packages (0.1.2)\n",
            "Requirement already satisfied: absl-py in /usr/local/lib/python3.12/dist-packages (from rouge_score) (1.4.0)\n",
            "Requirement already satisfied: nltk in /usr/local/lib/python3.12/dist-packages (from rouge_score) (3.9.1)\n",
            "Requirement already satisfied: numpy in /usr/local/lib/python3.12/dist-packages (from rouge_score) (2.0.2)\n",
            "Requirement already satisfied: six>=1.14.0 in /usr/local/lib/python3.12/dist-packages (from rouge_score) (1.17.0)\n",
            "Requirement already satisfied: click in /usr/local/lib/python3.12/dist-packages (from nltk->rouge_score) (8.3.0)\n",
            "Requirement already satisfied: joblib in /usr/local/lib/python3.12/dist-packages (from nltk->rouge_score) (1.5.2)\n",
            "Requirement already satisfied: regex>=2021.8.3 in /usr/local/lib/python3.12/dist-packages (from nltk->rouge_score) (2024.11.6)\n",
            "Requirement already satisfied: tqdm in /usr/local/lib/python3.12/dist-packages (from nltk->rouge_score) (4.67.1)\n"
          ]
        }
      ]
    },
    {
      "cell_type": "code",
      "source": [
        "rouge = evaluate.load(\"rouge\")\n",
        "\n",
        "def compute_metrics(eval_pred):\n",
        "    preds, labels = eval_pred\n",
        "\n",
        "    # Replace -100 with pad token for decoding\n",
        "    labels = np.where(labels != -100, labels, tokenizer.pad_token_id)\n",
        "\n",
        "    # Skip special tokens during decoding\n",
        "    decoded_preds = tokenizer.batch_decode(preds, skip_special_tokens=True)\n",
        "    decoded_labels = tokenizer.batch_decode(labels, skip_special_tokens=True)\n",
        "\n",
        "    # Clean up: remove empty strings if any\n",
        "    decoded_preds = [pred.strip() for pred in decoded_preds]\n",
        "    decoded_labels = [label.strip() for label in decoded_labels]\n",
        "\n",
        "    result = rouge.compute(\n",
        "        predictions=decoded_preds,\n",
        "        references=decoded_labels,\n",
        "        use_stemmer=True,\n",
        "        rouge_types=[\"rouge1\", \"rouge2\", \"rougeL\"]\n",
        "    )\n",
        "    return {k: round(v, 4) for k, v in result.items()}"
      ],
      "metadata": {
        "id": "NShL3yRvD5HM"
      },
      "execution_count": 218,
      "outputs": []
    },
    {
      "cell_type": "code",
      "source": [
        "trainer = Seq2SeqTrainer(\n",
        "    model=model,\n",
        "    args=training_args,\n",
        "    train_dataset=tokenized_train,\n",
        "    eval_dataset=tokenized_val,\n",
        "    tokenizer=tokenizer,\n",
        "    data_collator=data_collator,\n",
        "    compute_metrics=compute_metrics\n",
        ")"
      ],
      "metadata": {
        "colab": {
          "base_uri": "https://localhost:8080/"
        },
        "id": "tVal-g-pAUGw",
        "outputId": "316d7684-dfdb-4592-9e9d-7bcd7ab6586f"
      },
      "execution_count": 219,
      "outputs": [
        {
          "output_type": "stream",
          "name": "stderr",
          "text": [
            "/tmp/ipython-input-3226501058.py:1: FutureWarning: `tokenizer` is deprecated and will be removed in version 5.0.0 for `Seq2SeqTrainer.__init__`. Use `processing_class` instead.\n",
            "  trainer = Seq2SeqTrainer(\n"
          ]
        }
      ]
    },
    {
      "cell_type": "code",
      "source": [
        "# Start training!\n",
        "trainer.train()"
      ],
      "metadata": {
        "colab": {
          "base_uri": "https://localhost:8080/",
          "height": 225
        },
        "id": "Ik_Vtu-QAs4o",
        "outputId": "ffa48138-2f40-4350-da53-b4aabcd3fc59"
      },
      "execution_count": 220,
      "outputs": [
        {
          "output_type": "display_data",
          "data": {
            "text/plain": [
              "<IPython.core.display.HTML object>"
            ],
            "text/html": [
              "\n",
              "    <div>\n",
              "      \n",
              "      <progress value='216' max='216' style='width:300px; height:20px; vertical-align: middle;'></progress>\n",
              "      [216/216 01:50, Epoch 3/3]\n",
              "    </div>\n",
              "    <table border=\"1\" class=\"dataframe\">\n",
              "  <thead>\n",
              " <tr style=\"text-align: left;\">\n",
              "      <th>Epoch</th>\n",
              "      <th>Training Loss</th>\n",
              "      <th>Validation Loss</th>\n",
              "      <th>Rouge1</th>\n",
              "      <th>Rouge2</th>\n",
              "      <th>Rougel</th>\n",
              "    </tr>\n",
              "  </thead>\n",
              "  <tbody>\n",
              "    <tr>\n",
              "      <td>1</td>\n",
              "      <td>No log</td>\n",
              "      <td>1.530942</td>\n",
              "      <td>0.414700</td>\n",
              "      <td>0.213100</td>\n",
              "      <td>0.284800</td>\n",
              "    </tr>\n",
              "    <tr>\n",
              "      <td>2</td>\n",
              "      <td>2.004900</td>\n",
              "      <td>1.534233</td>\n",
              "      <td>0.424700</td>\n",
              "      <td>0.216000</td>\n",
              "      <td>0.291600</td>\n",
              "    </tr>\n",
              "    <tr>\n",
              "      <td>3</td>\n",
              "      <td>1.643600</td>\n",
              "      <td>1.544437</td>\n",
              "      <td>0.424100</td>\n",
              "      <td>0.210300</td>\n",
              "      <td>0.293500</td>\n",
              "    </tr>\n",
              "  </tbody>\n",
              "</table><p>"
            ]
          },
          "metadata": {}
        },
        {
          "output_type": "stream",
          "name": "stderr",
          "text": [
            "There were missing keys in the checkpoint model loaded: ['encoder.embed_tokens.weight', 'decoder.embed_tokens.weight', 'lm_head.weight'].\n"
          ]
        },
        {
          "output_type": "execute_result",
          "data": {
            "text/plain": [
              "TrainOutput(global_step=216, training_loss=1.8091443379720051, metrics={'train_runtime': 111.1946, 'train_samples_per_second': 7.743, 'train_steps_per_second': 1.943, 'total_flos': 228862986289152.0, 'train_loss': 1.8091443379720051, 'epoch': 3.0})"
            ]
          },
          "metadata": {},
          "execution_count": 220
        }
      ]
    },
    {
      "cell_type": "code",
      "source": [
        "trainer.save_model(\"./t5-summarizer-final\")\n",
        "tokenizer.save_pretrained(\"./t5-summarizer-final\")"
      ],
      "metadata": {
        "colab": {
          "base_uri": "https://localhost:8080/"
        },
        "id": "vpizZ4dHBWy2",
        "outputId": "429ebd1e-7919-45a8-e7d1-716b18f1b3c6"
      },
      "execution_count": 221,
      "outputs": [
        {
          "output_type": "execute_result",
          "data": {
            "text/plain": [
              "('./t5-summarizer-final/tokenizer_config.json',\n",
              " './t5-summarizer-final/special_tokens_map.json',\n",
              " './t5-summarizer-final/spiece.model',\n",
              " './t5-summarizer-final/added_tokens.json')"
            ]
          },
          "metadata": {},
          "execution_count": 221
        }
      ]
    },
    {
      "cell_type": "code",
      "source": [
        "import random\n",
        "\n",
        "test_sample = test_df.sample(n=1).to_dicts()[0]\n",
        "article = test_sample[\"article\"]\n",
        "act_summary = test_sample[\"highlights\"]\n",
        "\n",
        "print(\"\\t---- Original Article ----\")\n",
        "print(f\"{article} \\n\")\n",
        "\n",
        "print(\"\\t---- Actual Summary----\")\n",
        "print(act_summary + \"\\n\")\n",
        "\n",
        "input_text = \"summarize: \" + article\n",
        "# Tokenize\n",
        "inputs = tokenizer(\n",
        "    input_text,\n",
        "    return_tensors=\"pt\",\n",
        "    max_length=1024,\n",
        "    truncation=True,\n",
        "    padding=\"max_length\"\n",
        ").input_ids.to(model.device)\n",
        "\n",
        "# Generate\n",
        "outputs = model.generate(\n",
        "    inputs,\n",
        "    max_length=150,\n",
        "    num_beams=4,\n",
        "    early_stopping=True,\n",
        "    no_repeat_ngram_size=2\n",
        ")\n",
        "\n",
        "# Decode\n",
        "generated_summary = tokenizer.decode(outputs[0], skip_special_tokens=True)\n",
        "\n",
        "print(\"\\t---- Generated Summary ----\")\n",
        "generated_summary"
      ],
      "metadata": {
        "colab": {
          "base_uri": "https://localhost:8080/",
          "height": 239
        },
        "id": "M6KEpgjBCEEC",
        "outputId": "704a17fb-7d47-41e0-8003-b8e2635a2e9c"
      },
      "execution_count": 222,
      "outputs": [
        {
          "output_type": "stream",
          "name": "stdout",
          "text": [
            "\t---- Original Article ----\n",
            "Some teenagers get driving lessons from their parents. Other teens are taught by licensed instructors. But Malia Obama isn't your average 16-year-old: Her driving lessons were provided by the U.S. Secret Service. Asked who taught Malia how to drive, first lady Michelle Obama told celebrity chef and daytime talk-show host Rachael Ray in an interview that it was the armed agents who provide around-the-clock security for the family. Scroll down for video . Famous family: Malia Obama, seen with her mother Michelle Obama in April 2009, reportedly was taught how to drive by Secret Service agents . 'The Secret Service, actually, because they wouldn't let me in the car with her,' Mrs. Obama said in an excerpt of the interview that was released by Ray's program. The full interview is set to air Thursday. Mrs. Obama hasn't driven herself in seven or eight years, she said. She added that driving gives Malia 'a sense of normalcy,' helping her feel like the rest of her friends who are also driving. 'And my kids have got to learn how to live in the world like normal kids.' When Ray says that the Obamas seem 'so grounded,' the first lady replies that her 'hope is just to make sure that they (her daughters) come out of this thing as functioning adults, you know?' Malia also drives herself around Washington, Mrs. Obama said. 'She always has security around but in order for her to learn how to drive she had to drive on her own,' the first lady said during a separate interview on 'Live! With Kelly and Michael' earlier this week. 'So once she was legally permitted to drive on her own, she gets in her car.' Famous family: In this March 7, 2015 file photo, President Barack Obama and Malia Obama arrive at Air Force One at Maxwell Air Force Base in Montgomery, Alabama . Connection: First Lady Michelle Obama and Food Network chef Rachel Ray are seen together in February 2013 . \n",
            "\n",
            "\t---- Actual Summary----\n",
            "Michelle Obama told talk-show host Rachael Ray that Secret Service agents taught her daughter Malia how to drive .\n",
            "Mrs. Obama hasn't driven herself in seven or eight years, she said .\n",
            "She added that driving gives Malia 'a sense of normalcy,' helping her feel like the rest of her friends who are also driving .\n",
            "\n",
            "\t---- Generated Summary ----\n"
          ]
        },
        {
          "output_type": "execute_result",
          "data": {
            "text/plain": [
              "\"Michelle Obama told celebrity chef and daytime talk-show host Rachael Ray that it was the armed agents who provide around-the-clock security for Malia Obama. The full interview is set to air Thursday. Mrs. Obama hasn't driven herself in seven or eight years, she said.\""
            ],
            "application/vnd.google.colaboratory.intrinsic+json": {
              "type": "string"
            }
          },
          "metadata": {},
          "execution_count": 222
        }
      ]
    }
  ]
}